{
 "cells": [
  {
   "cell_type": "markdown",
   "metadata": {},
   "source": [
    "<h1><u>Proyecto N°2 Mineria de datos</u></h1>\n",
    "\n",
    "<p>Se nos pide crear un programa computacional que permita a la aerolínea PANAM estimar si un vuelo tendrá más de 4 no show en su vuelo. Esto es importante ya que en casos</p>\n",
    "\n",
    "<div><b>Tabla de contenidos: </b>\n",
    "    <ol>\n",
    "        <li>Limpieza de datos</li>\n",
    "        <li>Modelo de Clasificación</li>\n",
    "        <li>Selección del modelo final</li>\n",
    "        <li>Evaluacion de la 2da base de datos</li> \n",
    "    </ol>\n",
    "</div>"
   ]
  },
  {
   "cell_type": "markdown",
   "metadata": {},
   "source": [
    "--------\n",
    "<h1>1. Limpieza de datos</h1>\n",
    "\n",
    "<p>En un principio seleccionamos las variables que creemos serán relevantes para entrenar el modelo, cabe destacar que estas son las variables que a nuestro parecer son las más representativas, esto requiere un análisis de un experto en el tema del negocio de vuelos comerciales para obtener mejores resultados.</p>\n",
    "<ul>\n",
    "    <li>date: ya que puede ser una variable importante al momento de analizar temporadas del año en que ocurren \"noshow\",\n",
    "        esta variable es separada en mes y día del mes.</li>\n",
    "    <li>departure_time: horas extremas (madrugada) pueden llegar a influir en los \"noshow\", esta variable\n",
    "        es separada en hora y minutos.</li>\n",
    "    <li>fligth_number: conocer las rutas en donde mayoritariamente pueden existir más \"noshow\".</li>\n",
    "    <li>origin: conocer desde que aeropuertos se producen los \"noshow\".</li>\n",
    "    <li>destination: conocer hacía que aeropuertos se producen los \"noshow\".</li>\n",
    "    <li>noshow: dato central con el cual crearemos nuestra predicción.</li>\n",
    "    <li>denied_boarding: puede ser útil a la hora de estimar el error que se ha producido con la sobre venta.</li>\n",
    "    <li>pax_hig: puede ser útil para categorizar quienes son más propensos a no presentarse.</li>\n",
    "    <li>pax_midhigh: puede ser útil para categorizar quienes son más propensos a no presentarse.</li>\n",
    "    <li>pax_midlow: puede ser útil para categorizar quienes son más propensos a no presentarse.</li>\n",
    "    <li>pax_low: puede ser útil para categorizar quienes son más propensos a no presentarse.</li>\n",
    "    <li>dom_cnx: debido a que una conexión puede causar un retraso en la persona que viaja, esta variable es considerada.</li>\n",
    "    <li>int_cnx: al igual que la variable anterior el hecho de ser una conexión de vuelo es probable que influya en los\n",
    "        “noshow” mediante retrasos en las conexiones.</li>\n",
    "    <li>p2p: es importante para saber equilibrar con aquellos pasajeros que si hacen conexiones.</li>\n",
    "</ul>\n",
    " <p>Realizamos la limpieza de los datos desde 3 focos; Revisar y eliminar datos repetidos, analizar valores Na e interpretación de datos atipicos. </p>"
   ]
  },
  {
   "cell_type": "code",
   "execution_count": 7,
   "metadata": {},
   "outputs": [
    {
     "name": "stdout",
     "output_type": "stream",
     "text": [
      "cantidad de duplicados: 0\n",
      "date                  0\n",
      "fligth_number         0\n",
      "distance              0\n",
      "noshow                0\n",
      "denied_boarding       0\n",
      "pax_midlow            0\n",
      "pax_high              0\n",
      "pax_midhigh           0\n",
      "pax_low               0\n",
      "dom_cnx               0\n",
      "int_cnx               0\n",
      "p2p                   0\n",
      "departure_time     1418\n",
      "dtype: int64\n",
      "date               0\n",
      "fligth_number      0\n",
      "distance           0\n",
      "noshow             0\n",
      "denied_boarding    0\n",
      "pax_midlow         0\n",
      "pax_high           0\n",
      "pax_midhigh        0\n",
      "pax_low            0\n",
      "dom_cnx            0\n",
      "int_cnx            0\n",
      "p2p                0\n",
      "departure_time     0\n",
      "dtype: int64\n"
     ]
    },
    {
     "data": {
      "text/html": [
       "<div>\n",
       "<style scoped>\n",
       "    .dataframe tbody tr th:only-of-type {\n",
       "        vertical-align: middle;\n",
       "    }\n",
       "\n",
       "    .dataframe tbody tr th {\n",
       "        vertical-align: top;\n",
       "    }\n",
       "\n",
       "    .dataframe thead th {\n",
       "        text-align: right;\n",
       "    }\n",
       "</style>\n",
       "<table border=\"1\" class=\"dataframe\">\n",
       "  <thead>\n",
       "    <tr style=\"text-align: right;\">\n",
       "      <th></th>\n",
       "      <th>noshow</th>\n",
       "      <th>departure_month</th>\n",
       "      <th>departure_day</th>\n",
       "      <th>fligth_number</th>\n",
       "      <th>distance</th>\n",
       "      <th>denied_boarding</th>\n",
       "      <th>pax_midlow</th>\n",
       "      <th>pax_high</th>\n",
       "      <th>pax_midhigh</th>\n",
       "      <th>pax_low</th>\n",
       "      <th>dom_cnx</th>\n",
       "      <th>int_cnx</th>\n",
       "      <th>p2p</th>\n",
       "      <th>departure_hour</th>\n",
       "      <th>departure_minute</th>\n",
       "    </tr>\n",
       "  </thead>\n",
       "  <tbody>\n",
       "    <tr>\n",
       "      <th>noshow</th>\n",
       "      <td>1.000000</td>\n",
       "      <td>0.005874</td>\n",
       "      <td>-0.003067</td>\n",
       "      <td>0.103790</td>\n",
       "      <td>0.057667</td>\n",
       "      <td>-0.022252</td>\n",
       "      <td>0.053084</td>\n",
       "      <td>0.022336</td>\n",
       "      <td>0.017453</td>\n",
       "      <td>0.129572</td>\n",
       "      <td>-0.034852</td>\n",
       "      <td>0.015795</td>\n",
       "      <td>0.132173</td>\n",
       "      <td>-0.024454</td>\n",
       "      <td>-0.001112</td>\n",
       "    </tr>\n",
       "    <tr>\n",
       "      <th>departure_month</th>\n",
       "      <td>0.005874</td>\n",
       "      <td>1.000000</td>\n",
       "      <td>0.025107</td>\n",
       "      <td>-0.035635</td>\n",
       "      <td>-0.008197</td>\n",
       "      <td>0.009852</td>\n",
       "      <td>-0.052880</td>\n",
       "      <td>-0.015380</td>\n",
       "      <td>-0.055107</td>\n",
       "      <td>-0.003799</td>\n",
       "      <td>0.027768</td>\n",
       "      <td>-0.024587</td>\n",
       "      <td>-0.041386</td>\n",
       "      <td>-0.007633</td>\n",
       "      <td>0.000004</td>\n",
       "    </tr>\n",
       "    <tr>\n",
       "      <th>departure_day</th>\n",
       "      <td>-0.003067</td>\n",
       "      <td>0.025107</td>\n",
       "      <td>1.000000</td>\n",
       "      <td>-0.004271</td>\n",
       "      <td>-0.001087</td>\n",
       "      <td>0.001880</td>\n",
       "      <td>0.010416</td>\n",
       "      <td>0.016733</td>\n",
       "      <td>0.013999</td>\n",
       "      <td>0.000287</td>\n",
       "      <td>0.016170</td>\n",
       "      <td>0.001332</td>\n",
       "      <td>0.006150</td>\n",
       "      <td>0.000597</td>\n",
       "      <td>0.000505</td>\n",
       "    </tr>\n",
       "    <tr>\n",
       "      <th>fligth_number</th>\n",
       "      <td>0.103790</td>\n",
       "      <td>-0.035635</td>\n",
       "      <td>-0.004271</td>\n",
       "      <td>1.000000</td>\n",
       "      <td>-0.165506</td>\n",
       "      <td>0.024078</td>\n",
       "      <td>-0.227998</td>\n",
       "      <td>0.016133</td>\n",
       "      <td>0.117632</td>\n",
       "      <td>0.168681</td>\n",
       "      <td>-0.079094</td>\n",
       "      <td>-0.142108</td>\n",
       "      <td>0.059538</td>\n",
       "      <td>-0.034091</td>\n",
       "      <td>0.004467</td>\n",
       "    </tr>\n",
       "    <tr>\n",
       "      <th>distance</th>\n",
       "      <td>0.057667</td>\n",
       "      <td>-0.008197</td>\n",
       "      <td>-0.001087</td>\n",
       "      <td>-0.165506</td>\n",
       "      <td>1.000000</td>\n",
       "      <td>0.000039</td>\n",
       "      <td>0.404554</td>\n",
       "      <td>0.041158</td>\n",
       "      <td>0.030113</td>\n",
       "      <td>0.169810</td>\n",
       "      <td>-0.233322</td>\n",
       "      <td>0.625805</td>\n",
       "      <td>0.123509</td>\n",
       "      <td>0.088534</td>\n",
       "      <td>0.016479</td>\n",
       "    </tr>\n",
       "    <tr>\n",
       "      <th>denied_boarding</th>\n",
       "      <td>-0.022252</td>\n",
       "      <td>0.009852</td>\n",
       "      <td>0.001880</td>\n",
       "      <td>0.024078</td>\n",
       "      <td>0.000039</td>\n",
       "      <td>1.000000</td>\n",
       "      <td>-0.020263</td>\n",
       "      <td>0.032818</td>\n",
       "      <td>0.011405</td>\n",
       "      <td>0.022923</td>\n",
       "      <td>-0.016066</td>\n",
       "      <td>0.007478</td>\n",
       "      <td>0.007730</td>\n",
       "      <td>-0.000718</td>\n",
       "      <td>0.001884</td>\n",
       "    </tr>\n",
       "    <tr>\n",
       "      <th>pax_midlow</th>\n",
       "      <td>0.053084</td>\n",
       "      <td>-0.052880</td>\n",
       "      <td>0.010416</td>\n",
       "      <td>-0.227998</td>\n",
       "      <td>0.404554</td>\n",
       "      <td>-0.020263</td>\n",
       "      <td>1.000000</td>\n",
       "      <td>0.008923</td>\n",
       "      <td>-0.044458</td>\n",
       "      <td>0.282460</td>\n",
       "      <td>0.080838</td>\n",
       "      <td>0.444999</td>\n",
       "      <td>0.537471</td>\n",
       "      <td>0.004833</td>\n",
       "      <td>0.010851</td>\n",
       "    </tr>\n",
       "    <tr>\n",
       "      <th>pax_high</th>\n",
       "      <td>0.022336</td>\n",
       "      <td>-0.015380</td>\n",
       "      <td>0.016733</td>\n",
       "      <td>0.016133</td>\n",
       "      <td>0.041158</td>\n",
       "      <td>0.032818</td>\n",
       "      <td>0.008923</td>\n",
       "      <td>1.000000</td>\n",
       "      <td>0.294970</td>\n",
       "      <td>-0.177712</td>\n",
       "      <td>0.060671</td>\n",
       "      <td>0.153969</td>\n",
       "      <td>-0.069359</td>\n",
       "      <td>0.002369</td>\n",
       "      <td>-0.006798</td>\n",
       "    </tr>\n",
       "    <tr>\n",
       "      <th>pax_midhigh</th>\n",
       "      <td>0.017453</td>\n",
       "      <td>-0.055107</td>\n",
       "      <td>0.013999</td>\n",
       "      <td>0.117632</td>\n",
       "      <td>0.030113</td>\n",
       "      <td>0.011405</td>\n",
       "      <td>-0.044458</td>\n",
       "      <td>0.294970</td>\n",
       "      <td>1.000000</td>\n",
       "      <td>-0.192163</td>\n",
       "      <td>0.099354</td>\n",
       "      <td>0.003663</td>\n",
       "      <td>-0.007029</td>\n",
       "      <td>0.037218</td>\n",
       "      <td>-0.013517</td>\n",
       "    </tr>\n",
       "    <tr>\n",
       "      <th>pax_low</th>\n",
       "      <td>0.129572</td>\n",
       "      <td>-0.003799</td>\n",
       "      <td>0.000287</td>\n",
       "      <td>0.168681</td>\n",
       "      <td>0.169810</td>\n",
       "      <td>0.022923</td>\n",
       "      <td>0.282460</td>\n",
       "      <td>-0.177712</td>\n",
       "      <td>-0.192163</td>\n",
       "      <td>1.000000</td>\n",
       "      <td>-0.156657</td>\n",
       "      <td>0.108151</td>\n",
       "      <td>0.725418</td>\n",
       "      <td>0.017860</td>\n",
       "      <td>0.033819</td>\n",
       "    </tr>\n",
       "    <tr>\n",
       "      <th>dom_cnx</th>\n",
       "      <td>-0.034852</td>\n",
       "      <td>0.027768</td>\n",
       "      <td>0.016170</td>\n",
       "      <td>-0.079094</td>\n",
       "      <td>-0.233322</td>\n",
       "      <td>-0.016066</td>\n",
       "      <td>0.080838</td>\n",
       "      <td>0.060671</td>\n",
       "      <td>0.099354</td>\n",
       "      <td>-0.156657</td>\n",
       "      <td>1.000000</td>\n",
       "      <td>-0.328837</td>\n",
       "      <td>-0.254578</td>\n",
       "      <td>-0.054507</td>\n",
       "      <td>-0.015124</td>\n",
       "    </tr>\n",
       "    <tr>\n",
       "      <th>int_cnx</th>\n",
       "      <td>0.015795</td>\n",
       "      <td>-0.024587</td>\n",
       "      <td>0.001332</td>\n",
       "      <td>-0.142108</td>\n",
       "      <td>0.625805</td>\n",
       "      <td>0.007478</td>\n",
       "      <td>0.444999</td>\n",
       "      <td>0.153969</td>\n",
       "      <td>0.003663</td>\n",
       "      <td>0.108151</td>\n",
       "      <td>-0.328837</td>\n",
       "      <td>1.000000</td>\n",
       "      <td>-0.094947</td>\n",
       "      <td>0.022850</td>\n",
       "      <td>0.006545</td>\n",
       "    </tr>\n",
       "    <tr>\n",
       "      <th>p2p</th>\n",
       "      <td>0.132173</td>\n",
       "      <td>-0.041386</td>\n",
       "      <td>0.006150</td>\n",
       "      <td>0.059538</td>\n",
       "      <td>0.123509</td>\n",
       "      <td>0.007730</td>\n",
       "      <td>0.537471</td>\n",
       "      <td>-0.069359</td>\n",
       "      <td>-0.007029</td>\n",
       "      <td>0.725418</td>\n",
       "      <td>-0.254578</td>\n",
       "      <td>-0.094947</td>\n",
       "      <td>1.000000</td>\n",
       "      <td>0.039753</td>\n",
       "      <td>0.027356</td>\n",
       "    </tr>\n",
       "    <tr>\n",
       "      <th>departure_hour</th>\n",
       "      <td>-0.024454</td>\n",
       "      <td>-0.007633</td>\n",
       "      <td>0.000597</td>\n",
       "      <td>-0.034091</td>\n",
       "      <td>0.088534</td>\n",
       "      <td>-0.000718</td>\n",
       "      <td>0.004833</td>\n",
       "      <td>0.002369</td>\n",
       "      <td>0.037218</td>\n",
       "      <td>0.017860</td>\n",
       "      <td>-0.054507</td>\n",
       "      <td>0.022850</td>\n",
       "      <td>0.039753</td>\n",
       "      <td>1.000000</td>\n",
       "      <td>0.020504</td>\n",
       "    </tr>\n",
       "    <tr>\n",
       "      <th>departure_minute</th>\n",
       "      <td>-0.001112</td>\n",
       "      <td>0.000004</td>\n",
       "      <td>0.000505</td>\n",
       "      <td>0.004467</td>\n",
       "      <td>0.016479</td>\n",
       "      <td>0.001884</td>\n",
       "      <td>0.010851</td>\n",
       "      <td>-0.006798</td>\n",
       "      <td>-0.013517</td>\n",
       "      <td>0.033819</td>\n",
       "      <td>-0.015124</td>\n",
       "      <td>0.006545</td>\n",
       "      <td>0.027356</td>\n",
       "      <td>0.020504</td>\n",
       "      <td>1.000000</td>\n",
       "    </tr>\n",
       "  </tbody>\n",
       "</table>\n",
       "</div>"
      ],
      "text/plain": [
       "                    noshow  departure_month  departure_day  fligth_number  \\\n",
       "noshow            1.000000         0.005874      -0.003067       0.103790   \n",
       "departure_month   0.005874         1.000000       0.025107      -0.035635   \n",
       "departure_day    -0.003067         0.025107       1.000000      -0.004271   \n",
       "fligth_number     0.103790        -0.035635      -0.004271       1.000000   \n",
       "distance          0.057667        -0.008197      -0.001087      -0.165506   \n",
       "denied_boarding  -0.022252         0.009852       0.001880       0.024078   \n",
       "pax_midlow        0.053084        -0.052880       0.010416      -0.227998   \n",
       "pax_high          0.022336        -0.015380       0.016733       0.016133   \n",
       "pax_midhigh       0.017453        -0.055107       0.013999       0.117632   \n",
       "pax_low           0.129572        -0.003799       0.000287       0.168681   \n",
       "dom_cnx          -0.034852         0.027768       0.016170      -0.079094   \n",
       "int_cnx           0.015795        -0.024587       0.001332      -0.142108   \n",
       "p2p               0.132173        -0.041386       0.006150       0.059538   \n",
       "departure_hour   -0.024454        -0.007633       0.000597      -0.034091   \n",
       "departure_minute -0.001112         0.000004       0.000505       0.004467   \n",
       "\n",
       "                  distance  denied_boarding  pax_midlow  pax_high  \\\n",
       "noshow            0.057667        -0.022252    0.053084  0.022336   \n",
       "departure_month  -0.008197         0.009852   -0.052880 -0.015380   \n",
       "departure_day    -0.001087         0.001880    0.010416  0.016733   \n",
       "fligth_number    -0.165506         0.024078   -0.227998  0.016133   \n",
       "distance          1.000000         0.000039    0.404554  0.041158   \n",
       "denied_boarding   0.000039         1.000000   -0.020263  0.032818   \n",
       "pax_midlow        0.404554        -0.020263    1.000000  0.008923   \n",
       "pax_high          0.041158         0.032818    0.008923  1.000000   \n",
       "pax_midhigh       0.030113         0.011405   -0.044458  0.294970   \n",
       "pax_low           0.169810         0.022923    0.282460 -0.177712   \n",
       "dom_cnx          -0.233322        -0.016066    0.080838  0.060671   \n",
       "int_cnx           0.625805         0.007478    0.444999  0.153969   \n",
       "p2p               0.123509         0.007730    0.537471 -0.069359   \n",
       "departure_hour    0.088534        -0.000718    0.004833  0.002369   \n",
       "departure_minute  0.016479         0.001884    0.010851 -0.006798   \n",
       "\n",
       "                  pax_midhigh   pax_low   dom_cnx   int_cnx       p2p  \\\n",
       "noshow               0.017453  0.129572 -0.034852  0.015795  0.132173   \n",
       "departure_month     -0.055107 -0.003799  0.027768 -0.024587 -0.041386   \n",
       "departure_day        0.013999  0.000287  0.016170  0.001332  0.006150   \n",
       "fligth_number        0.117632  0.168681 -0.079094 -0.142108  0.059538   \n",
       "distance             0.030113  0.169810 -0.233322  0.625805  0.123509   \n",
       "denied_boarding      0.011405  0.022923 -0.016066  0.007478  0.007730   \n",
       "pax_midlow          -0.044458  0.282460  0.080838  0.444999  0.537471   \n",
       "pax_high             0.294970 -0.177712  0.060671  0.153969 -0.069359   \n",
       "pax_midhigh          1.000000 -0.192163  0.099354  0.003663 -0.007029   \n",
       "pax_low             -0.192163  1.000000 -0.156657  0.108151  0.725418   \n",
       "dom_cnx              0.099354 -0.156657  1.000000 -0.328837 -0.254578   \n",
       "int_cnx              0.003663  0.108151 -0.328837  1.000000 -0.094947   \n",
       "p2p                 -0.007029  0.725418 -0.254578 -0.094947  1.000000   \n",
       "departure_hour       0.037218  0.017860 -0.054507  0.022850  0.039753   \n",
       "departure_minute    -0.013517  0.033819 -0.015124  0.006545  0.027356   \n",
       "\n",
       "                  departure_hour  departure_minute  \n",
       "noshow                 -0.024454         -0.001112  \n",
       "departure_month        -0.007633          0.000004  \n",
       "departure_day           0.000597          0.000505  \n",
       "fligth_number          -0.034091          0.004467  \n",
       "distance                0.088534          0.016479  \n",
       "denied_boarding        -0.000718          0.001884  \n",
       "pax_midlow              0.004833          0.010851  \n",
       "pax_high                0.002369         -0.006798  \n",
       "pax_midhigh             0.037218         -0.013517  \n",
       "pax_low                 0.017860          0.033819  \n",
       "dom_cnx                -0.054507         -0.015124  \n",
       "int_cnx                 0.022850          0.006545  \n",
       "p2p                     0.039753          0.027356  \n",
       "departure_hour          1.000000          0.020504  \n",
       "departure_minute        0.020504          1.000000  "
      ]
     },
     "execution_count": 7,
     "metadata": {},
     "output_type": "execute_result"
    },
    {
     "data": {
      "image/png": "[encoded data removed]",
      "text/plain": [
       "<Figure size 432x288 with 1 Axes>"
      ]
     },
     "metadata": {
      "needs_background": "light"
     },
     "output_type": "display_data"
    },
    {
     "data": {
      "image/png": "[encoded data removed]",
      "text/plain": [
       "<Figure size 432x288 with 1 Axes>"
      ]
     },
     "metadata": {
      "needs_background": "light"
     },
     "output_type": "display_data"
    },
    {
     "data": {
      "image/png": "[encoded data removed]",
      "text/plain": [
       "<Figure size 432x288 with 1 Axes>"
      ]
     },
     "metadata": {
      "needs_background": "light"
     },
     "output_type": "display_data"
    },
    {
     "data": {
      "image/png": "[encoded data removed]",
      "text/plain": [
       "<Figure size 432x288 with 1 Axes>"
      ]
     },
     "metadata": {
      "needs_background": "light"
     },
     "output_type": "display_data"
    },
    {
     "data": {
      "image/png": "[encoded data removed]",
      "text/plain": [
       "<Figure size 432x288 with 1 Axes>"
      ]
     },
     "metadata": {
      "needs_background": "light"
     },
     "output_type": "display_data"
    },
    {
     "data": {
      "image/png": "[encoded data removed]",
      "text/plain": [
       "<Figure size 432x288 with 1 Axes>"
      ]
     },
     "metadata": {
      "needs_background": "light"
     },
     "output_type": "display_data"
    },
    {
     "data": {
      "image/png": "[encoded data removed]",
      "text/plain": [
       "<Figure size 432x288 with 1 Axes>"
      ]
     },
     "metadata": {
      "needs_background": "light"
     },
     "output_type": "display_data"
    },
    {
     "data": {
      "image/png": "[encoded data removed]",
      "text/plain": [
       "<Figure size 432x288 with 1 Axes>"
      ]
     },
     "metadata": {
      "needs_background": "light"
     },
     "output_type": "display_data"
    },
    {
     "data": {
      "image/png": "[encoded data removed]",
      "text/plain": [
       "<Figure size 432x288 with 1 Axes>"
      ]
     },
     "metadata": {
      "needs_background": "light"
     },
     "output_type": "display_data"
    },
    {
     "data": {
      "image/png": "[encoded data removed]",
      "text/plain": [
       "<Figure size 432x288 with 1 Axes>"
      ]
     },
     "metadata": {
      "needs_background": "light"
     },
     "output_type": "display_data"
    },
    {
     "data": {
      "image/png": "[encoded data removed]",
      "text/plain": [
       "<Figure size 432x288 with 1 Axes>"
      ]
     },
     "metadata": {
      "needs_background": "light"
     },
     "output_type": "display_data"
    },
    {
     "data": {
      "image/png": "[encoded data removed]",
      "text/plain": [
       "<Figure size 432x288 with 1 Axes>"
      ]
     },
     "metadata": {
      "needs_background": "light"
     },
     "output_type": "display_data"
    },
    {
     "data": {
      "image/png": "[encoded data removed]",
      "text/plain": [
       "<Figure size 432x288 with 1 Axes>"
      ]
     },
     "metadata": {
      "needs_background": "light"
     },
     "output_type": "display_data"
    },
    {
     "data": {
      "image/png": "[encoded data removed]",
      "text/plain": [
       "<Figure size 432x288 with 1 Axes>"
      ]
     },
     "metadata": {
      "needs_background": "light"
     },
     "output_type": "display_data"
    },
    {
     "data": {
      "image/png": "[encoded data removed]",
      "text/plain": [
       "<Figure size 432x288 with 1 Axes>"
      ]
     },
     "metadata": {
      "needs_background": "light"
     },
     "output_type": "display_data"
    }
   ],
   "source": [
    "import numpy as np\n",
    "import pandas as pd\n",
    "import matplotlib.pyplot as plt\n",
    "from sklearn.preprocessing import StandardScaler\n",
    "from sklearn_pandas import DataFrameMapper\n",
    "# import sys\n",
    "# !{sys.executable} -m pip install sklearn-pandas\n",
    "\n",
    "##cargamos el csv.\n",
    "airlineDF = pd.read_csv('./trainData.csv',sep=\",\")\n",
    "\n",
    "##eliminamos las columnas que no creemos necesarias.\n",
    "airlineDF.drop(labels=['Unnamed: 0','capacity', 'revenues_usd','bookings','pax_freqflyer','group_bookings','out_of_stock', 'origin', 'destination'], axis= 1, inplace= True)\n",
    "\n",
    "##verificamos que no existan duplicados.\n",
    "print(\"cantidad de duplicados: \" + str(airlineDF.duplicated().sum()))\n",
    "\n",
    "##verificamos que no existan Na.\n",
    "print(airlineDF.isna().sum())\n",
    "airlineDF.dropna(inplace= True)\n",
    "\n",
    "print(airlineDF.isna().sum())\n",
    "\n",
    "##buscamos outliers utilizando boxplots de las variables, para esto necesitamos trabajar algunas variables antes\n",
    "#extraemos los meses y los dias de \"date\" para utilizarlos como nuevas variabes.\n",
    "airlineDF['date'] = pd.to_datetime(airlineDF['date'], format= '%Y-%m-%dT', errors= 'coerce')\n",
    "airlineDF.insert(1,\"departure_month\" , airlineDF['date'].dt.month)\n",
    "airlineDF.insert(2,\"departure_day\" , airlineDF['date'].dt.day)\n",
    "#eliminamos la columna \"date\" ya que tenemos los meses y dias en las nuevas columnas.\n",
    "airlineDF.drop(labels= 'date', axis=1 , inplace= True)\n",
    "\n",
    "#extraemos la hora y los minutos de \"departure_time\" para utilizarlos como nuevas variables.\n",
    "airlineDF['departure_time'] = pd.to_datetime(airlineDF['departure_time'])\n",
    "airlineDF.insert(14,\"departure_hour\" , airlineDF['departure_time'].dt.hour)\n",
    "airlineDF.insert(15,\"departure_minute\" , airlineDF['departure_time'].dt.minute)\n",
    "#eliminamos la columna \"departure_time\" ya que tenemos las horas y minutos en las nuevas columnas.\n",
    "airlineDF.drop(labels= 'departure_time', axis=1 , inplace= True)\n",
    "\n",
    "\n",
    "#por temas de comodidad corremos la variable \"noshow\" a la primera columna\n",
    "temp = airlineDF.pop(\"noshow\")\n",
    "airlineDF.insert(0, 'noshow', temp)\n",
    "\n",
    "#graficamos los boxplot de cada variable por separado.\n",
    "for column in airlineDF.columns:\n",
    "    plt.figure()\n",
    "    airlineDF.boxplot([column])\n",
    "\n",
    "#Revisamos la correlación de las variables para hacer la ultima seleccion de las variables a utilizar y disminuir \n",
    "#la complejidad del modelo.\n",
    "#Creamos la matriz de correlación(a diferencia de la matriz de covarianza, aca no es necesario estandarizar ya que los valores\n",
    "# van desde -1 a 1)\n",
    "airlineDF_correlation = airlineDF.corr()\n",
    "airlineDF_correlation\n",
    "\n",
    "\n",
    "## creamos una columna \"target\" que cumplira con la condición requerida para catalogar como \"0\" o \"1\" el vuelo\n",
    "\n",
    "airlineDF['target'] = np.where(airlineDF['noshow'] >= 4, 1,0)\n",
    "airlineDF.drop(labels= 'noshow', axis=1 , inplace= True)\n",
    "\n",
    "airlineDF_correlation\n",
    "\n",
    "\n",
    "\n",
    "\n",
    "\n",
    "\n",
    "\n",
    "\n",
    "\n",
    "\n"
   ]
  },
  {
   "cell_type": "code",
   "execution_count": 2,
   "metadata": {},
   "outputs": [
    {
     "name": "stderr",
     "output_type": "stream",
     "text": [
      "C:\\Users\\theni\\AppData\\Local\\Temp\\ipykernel_12072\\357455343.py:4: DeprecationWarning: `np.bool` is a deprecated alias for the builtin `bool`. To silence this warning, use `bool` by itself. Doing this will not modify any behavior and is safe. If you specifically wanted the numpy scalar type, use `np.bool_` here.\n",
      "Deprecated in NumPy 1.20; for more details and guidance: https://numpy.org/devdocs/release/1.20.0-notes.html#deprecations\n",
      "  mask = np.zeros_like(tempDF_correlation, dtype=np.bool)\n"
     ]
    },
    {
     "data": {
      "image/png": "[encoded data removed]",
      "text/plain": [
       "<Figure size 792x648 with 2 Axes>"
      ]
     },
     "metadata": {
      "needs_background": "light"
     },
     "output_type": "display_data"
    }
   ],
   "source": [
    "import seaborn as sns\n",
    "\n",
    "# Generate a mask for the upper triangle\n",
    "mask = np.zeros_like(tempDF_correlation, dtype=np.bool)\n",
    "mask[np.triu_indices_from(mask)] = True\n",
    "\n",
    "# Set up the matplotlib figure\n",
    "f, ax = plt.subplots(figsize=(11, 9))\n",
    "\n",
    "# Generate a custom diverging colormap\n",
    "cmap = sns.diverging_palette(220, 10, as_cmap=True)\n",
    "\n",
    "# Draw the heatmap with the mask and correct aspect ratio\n",
    "corr_plot_matrix = sns.heatmap(tempDF_correlation, mask=mask, cmap=cmap, center=0,\n",
    "            square=True, linewidths=.5, cbar_kws={\"shrink\": .5})\n",
    "\n",
    "# save the figure\n",
    "fig = corr_plot_matrix.get_figure()\n",
    "fig.savefig('ME-CORR.png')"
   ]
  },
  {
   "cell_type": "markdown",
   "metadata": {},
   "source": [
    "<p>En conclusión, en la limpieza de los datos no encontramos filas duplicadas, pero si filas que no contenían valores en una de las variables seleccionadas(departure_time). La cantidad de elementos Na en esta variable son 1418 que representan un 0.14% del total de los datos, por lo que debido a que la cantidad de datos con valores Na es muy baja en comparación al total de datos, decidimos eliminar estas filas ya que creemos que la cantidad de filas a eliminar es insignificante.Al analizar los outliers de las variables seleccionadas mediante gráficos de caja vemos que dada la naturaleza de las distintas variables no existen datos que se alejen de la realidad de estas mismas por lo que no eliminamos ningún outlier. Por ultimo creamos una columna que sera nuestro \"target feature\" el cual segun la cantidad de \"noshows\" si es mayor o igual a 4 el valor sera \"1\" en caso contrario el valor sera \"0\". </p>"
   ]
  },
  {
   "cell_type": "markdown",
   "metadata": {},
   "source": [
    "--------\n",
    "<h1>2.Modelos de Clasificación </h1>\n",
    "<h2>2.1 K-Neighbors</h2>"
   ]
  },
  {
   "cell_type": "code",
   "execution_count": 3,
   "metadata": {},
   "outputs": [
    {
     "name": "stdout",
     "output_type": "stream",
     "text": [
      "iteracion 0\n",
      "iteracion 1\n",
      "iteracion 2\n",
      "iteracion 3\n",
      "iteracion 4\n",
      "iteracion 5\n",
      "iteracion 6\n",
      "iteracion 7\n",
      "iteracion 8\n",
      "iteracion 9\n",
      "iteracion 10\n",
      "iteracion 11\n",
      "iteracion 12\n",
      "iteracion 13\n",
      "iteracion 14\n",
      "iteracion 15\n",
      "iteracion 16\n",
      "iteracion 17\n",
      "iteracion 18\n",
      "iteracion 19\n",
      "Modelo 1: 1.0 +- 0.0\n",
      "Modelo 2: 0.7294895482050179 +- 1.1102230246251565e-16\n"
     ]
    }
   ],
   "source": [
    "from sklearn.model_selection import train_test_split\n",
    "from sklearn.neighbors import KNeighborsClassifier\n",
    "from sklearn import metrics as mt\n",
    "from sklearn.model_selection import KFold\n",
    "\n",
    "\n",
    "numFolds = 4 ## cambiar esto a 20\n",
    "kf = KFold(n_splits= numFolds, Shuffle= True)\n",
    "accModel1 = np.zeros((numFolds,1))\n",
    "accModel2 = np.zeros((numFolds,1))\n",
    "KNN1 = K\n",
    "KNN20 = \n",
    "\n",
    "for i in range(numIteraciones):\n",
    "    print(f\"iteracion {i}\")\n",
    "    X_train, X_test, y_train, y_test = train_test_split(airlineDF, airlineDF['target'], test_size=0.33,random_state=42)\n",
    "    # K = 1\n",
    "    KNN = KNeighborsClassifier(n_neighbors= 1 , weights=\"uniform\")\n",
    "    KNN = KNN.fit(X_train, y_train)\n",
    "    prediccion = KNN.predict(X_train)\n",
    "    accModel1[i] = mt.accuracy_score(y_train, prediccion)\n",
    "    \n",
    "    # K = 20\n",
    "    KNN = KNeighborsClassifier(n_neighbors= 20 , weights=\"uniform\")\n",
    "    KNN = KNN.fit(X_train, y_train)\n",
    "    prediccion = KNN.predict(X_train)\n",
    "    accModel2[i] = mt.accuracy_score(y_train, prediccion)\n",
    "\n",
    "print(f\"Modelo 1: {accModel1.mean()} +- {accModel1.std()}\")\n",
    "print(f\"Modelo 2: {accModel2.mean()} +- {accModel2.std()}\")"
   ]
  },
  {
   "cell_type": "markdown",
   "metadata": {},
   "source": [
    "<h2>2.2 \"nombre modelo2\"</h2>"
   ]
  },
  {
   "cell_type": "code",
   "execution_count": null,
   "metadata": {},
   "outputs": [],
   "source": []
  },
  {
   "cell_type": "markdown",
   "metadata": {},
   "source": [
    "<h1>3. Modelo elegido</h1>"
   ]
  },
  {
   "cell_type": "code",
   "execution_count": null,
   "metadata": {},
   "outputs": [],
   "source": []
  },
  {
   "cell_type": "markdown",
   "metadata": {},
   "source": [
    "<h1>4.Evaluacion de la 2da base de datos</h1>"
   ]
  },
  {
   "cell_type": "code",
   "execution_count": null,
   "metadata": {},
   "outputs": [],
   "source": []
  }
 ],
 "metadata": {
  "kernelspec": {
   "display_name": "Python 3.10.5 64-bit",
   "language": "python",
   "name": "python3"
  },
  "language_info": {
   "codemirror_mode": {
    "name": "ipython",
    "version": 3
   },
   "file_extension": ".py",
   "mimetype": "text/x-python",
   "name": "python",
   "nbconvert_exporter": "python",
   "pygments_lexer": "ipython3",
   "version": "3.10.5"
  },
  "orig_nbformat": 4,
  "vscode": {
   "interpreter": {
    "hash": "f9b388bf910cd0a16ba283d4ecb1c92316a2c4d734650259ad4bc4c5e978e497"
   }
  }
 },
 "nbformat": 4,
 "nbformat_minor": 2
}
